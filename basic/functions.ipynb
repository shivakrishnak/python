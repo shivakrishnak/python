{
 "cells": [
  {
   "cell_type": "code",
   "execution_count": 22,
   "metadata": {},
   "outputs": [
    {
     "name": "stdout",
     "output_type": "stream",
     "text": [
      "<function hello_func at 0x000001D69A2FD558>\n"
     ]
    }
   ],
   "source": [
    "def hello_func():\n",
    "    pass #pass keyword is used to execute nothing\n",
    "hello_func()\n",
    "print(hello_func)"
   ]
  },
  {
   "cell_type": "code",
   "execution_count": 23,
   "metadata": {},
   "outputs": [
    {
     "name": "stdout",
     "output_type": "stream",
     "text": [
      "hello function\n"
     ]
    }
   ],
   "source": [
    "def hello_func():\n",
    "    print('hello function')\n",
    "hello_func()"
   ]
  },
  {
   "cell_type": "code",
   "execution_count": 24,
   "metadata": {},
   "outputs": [
    {
     "name": "stdout",
     "output_type": "stream",
     "text": [
      "hello function with return\n",
      "HELLO FUNCTION WITH RETURN\n"
     ]
    }
   ],
   "source": [
    "def hello_func():\n",
    "    return 'hello function with return'\n",
    "print(hello_func())\n",
    "print(hello_func().upper())"
   ]
  },
  {
   "cell_type": "code",
   "execution_count": 25,
   "metadata": {},
   "outputs": [
    {
     "name": "stdout",
     "output_type": "stream",
     "text": [
      "Hellooo function\n"
     ]
    }
   ],
   "source": [
    "def hello_func(greeting):\n",
    "    return '{} function'.format(greeting)\n",
    "print(hello_func('Hellooo'))"
   ]
  },
  {
   "cell_type": "code",
   "execution_count": 26,
   "metadata": {},
   "outputs": [
    {
     "name": "stdout",
     "output_type": "stream",
     "text": [
      "Hellooo Krishna from function\n",
      "Hellooo shiva from function\n"
     ]
    }
   ],
   "source": [
    "def hello_func(greeting, name = 'Krishna'):\n",
    "    return '{} {} from function'.format(greeting, name)\n",
    "print(hello_func('Hellooo'))\n",
    "print(hello_func('Hellooo', 'shiva'))"
   ]
  },
  {
   "cell_type": "code",
   "execution_count": 27,
   "metadata": {},
   "outputs": [
    {
     "name": "stdout",
     "output_type": "stream",
     "text": [
      "('Math', 'Art')\n",
      "{'name': 'john', 'age': 22}\n"
     ]
    }
   ],
   "source": [
    "def student_info(*args,**kwargs):\n",
    "    print(args)\n",
    "    print(kwargs)\n",
    "student_info('Math','Art',name='john', age=22)"
   ]
  },
  {
   "cell_type": "code",
   "execution_count": 28,
   "metadata": {},
   "outputs": [
    {
     "name": "stdout",
     "output_type": "stream",
     "text": [
      "(('Math', 'Art'), {'name': 'john', 'age': 22})\n",
      "{}\n"
     ]
    }
   ],
   "source": [
    "courses = ('Math', 'Art')\n",
    "info = {'name': 'john', 'age': 22}\n",
    "student_info(courses,info)"
   ]
  },
  {
   "cell_type": "code",
   "execution_count": 29,
   "metadata": {},
   "outputs": [
    {
     "name": "stdout",
     "output_type": "stream",
     "text": [
      "('Math', 'Art')\n",
      "{'name': 'john', 'age': 22}\n"
     ]
    }
   ],
   "source": [
    "student_info(*courses,**info)"
   ]
  }
 ],
 "metadata": {
  "kernelspec": {
   "display_name": "Python 3",
   "language": "python",
   "name": "python3"
  },
  "language_info": {
   "codemirror_mode": {
    "name": "ipython",
    "version": 3
   },
   "file_extension": ".py",
   "mimetype": "text/x-python",
   "name": "python",
   "nbconvert_exporter": "python",
   "pygments_lexer": "ipython3",
   "version": "3.7.4"
  }
 },
 "nbformat": 4,
 "nbformat_minor": 2
}
