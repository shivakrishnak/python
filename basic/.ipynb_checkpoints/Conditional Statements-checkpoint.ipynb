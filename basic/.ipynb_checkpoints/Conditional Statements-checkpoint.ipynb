{
 "cells": [
  {
   "cell_type": "code",
   "execution_count": 11,
   "metadata": {},
   "outputs": [
    {
     "name": "stdout",
     "output_type": "stream",
     "text": [
      "This is true\n"
     ]
    }
   ],
   "source": [
    "if True:\n",
    "    print('This is true')\n",
    "else :\n",
    "    print('This is false')"
   ]
  },
  {
   "cell_type": "code",
   "execution_count": 12,
   "metadata": {
    "scrolled": true
   },
   "outputs": [
    {
     "name": "stdout",
     "output_type": "stream",
     "text": [
      "language is python\n"
     ]
    }
   ],
   "source": [
    "lang ='python'\n",
    "if lang == 'python':\n",
    "    print(\"language is python\")\n",
    "else:\n",
    "    print('Not matched')"
   ]
  },
  {
   "cell_type": "code",
   "execution_count": 13,
   "metadata": {},
   "outputs": [
    {
     "name": "stdout",
     "output_type": "stream",
     "text": [
      "Not matched\n"
     ]
    }
   ],
   "source": [
    "lang ='java'\n",
    "if lang == 'python':\n",
    "    print(\"language is python\")\n",
    "else:\n",
    "    print('Not matched')"
   ]
  },
  {
   "cell_type": "code",
   "execution_count": 14,
   "metadata": {},
   "outputs": [
    {
     "name": "stdout",
     "output_type": "stream",
     "text": [
      "Not matched\n"
     ]
    }
   ],
   "source": [
    "lang ='c#'\n",
    "if lang == 'python':\n",
    "    print(\"language is python\")\n",
    "elif lang == 'java':\n",
    "    print(\"language is java\")\n",
    "else:\n",
    "    print('Not matched')"
   ]
  },
  {
   "cell_type": "code",
   "execution_count": 20,
   "metadata": {},
   "outputs": [
    {
     "name": "stdout",
     "output_type": "stream",
     "text": [
      "True\n",
      "True\n",
      "True\n",
      "False\n",
      "2775144298824\n",
      "2775144298824\n",
      "True\n"
     ]
    }
   ],
   "source": [
    "a = ['2','3']\n",
    "b = a #['2','3']\n",
    "c = ['2','3']\n",
    "print(a == b)\n",
    "print(a is b)\n",
    "print(a == c)\n",
    "print(a is c)\n",
    "print(id(a))\n",
    "print(id(b))\n",
    "print(id(a) == id(b))"
   ]
  }
 ],
 "metadata": {
  "kernelspec": {
   "display_name": "Python 3",
   "language": "python",
   "name": "python3"
  },
  "language_info": {
   "codemirror_mode": {
    "name": "ipython",
    "version": 3
   },
   "file_extension": ".py",
   "mimetype": "text/x-python",
   "name": "python",
   "nbconvert_exporter": "python",
   "pygments_lexer": "ipython3",
   "version": "3.7.4"
  }
 },
 "nbformat": 4,
 "nbformat_minor": 2
}
