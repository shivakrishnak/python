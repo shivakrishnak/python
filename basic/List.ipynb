{
 "cells": [
  {
   "cell_type": "markdown",
   "metadata": {},
   "source": [
    "List - stores elements in order\n",
    "- Syntax []\n",
    "- empty_list = []\n",
    "- empty_list = list()"
   ]
  },
  {
   "cell_type": "code",
   "execution_count": 244,
   "metadata": {},
   "outputs": [],
   "source": [
    "courses = ['Math','Science','Social','Chemistry','Physics']"
   ]
  },
  {
   "cell_type": "code",
   "execution_count": 245,
   "metadata": {},
   "outputs": [
    {
     "name": "stdout",
     "output_type": "stream",
     "text": [
      "5\n"
     ]
    }
   ],
   "source": [
    "print(len(courses))"
   ]
  },
  {
   "cell_type": "code",
   "execution_count": 246,
   "metadata": {},
   "outputs": [
    {
     "name": "stdout",
     "output_type": "stream",
     "text": [
      "Math\n"
     ]
    }
   ],
   "source": [
    "print(courses[0])"
   ]
  },
  {
   "cell_type": "code",
   "execution_count": 247,
   "metadata": {},
   "outputs": [
    {
     "name": "stdout",
     "output_type": "stream",
     "text": [
      "Chemistry\n"
     ]
    }
   ],
   "source": [
    "print(courses[-2])"
   ]
  },
  {
   "cell_type": "code",
   "execution_count": 248,
   "metadata": {},
   "outputs": [
    {
     "name": "stdout",
     "output_type": "stream",
     "text": [
      "['Math', 'Science', 'Social']\n"
     ]
    }
   ],
   "source": [
    "print(courses[0:3])"
   ]
  },
  {
   "cell_type": "code",
   "execution_count": 249,
   "metadata": {
    "scrolled": false
   },
   "outputs": [
    {
     "name": "stdout",
     "output_type": "stream",
     "text": [
      "['Math', 'Science', 'Social', 'Chemistry']\n"
     ]
    }
   ],
   "source": [
    "print(courses[:4])"
   ]
  },
  {
   "cell_type": "code",
   "execution_count": 250,
   "metadata": {
    "scrolled": false
   },
   "outputs": [
    {
     "name": "stdout",
     "output_type": "stream",
     "text": [
      "['Social', 'Chemistry', 'Physics']\n"
     ]
    }
   ],
   "source": [
    "print(courses[2:])"
   ]
  },
  {
   "cell_type": "code",
   "execution_count": 251,
   "metadata": {},
   "outputs": [
    {
     "name": "stdout",
     "output_type": "stream",
     "text": [
      "2\n"
     ]
    }
   ],
   "source": [
    "print(courses.index('Social'))"
   ]
  },
  {
   "cell_type": "code",
   "execution_count": 252,
   "metadata": {},
   "outputs": [
    {
     "name": "stdout",
     "output_type": "stream",
     "text": [
      "True\n"
     ]
    }
   ],
   "source": [
    "print('Math' in courses)"
   ]
  },
  {
   "cell_type": "code",
   "execution_count": 253,
   "metadata": {},
   "outputs": [],
   "source": [
    "courses.append('History')"
   ]
  },
  {
   "cell_type": "code",
   "execution_count": 254,
   "metadata": {},
   "outputs": [
    {
     "name": "stdout",
     "output_type": "stream",
     "text": [
      "['Math', 'Science', 'Social', 'Chemistry', 'Physics', 'History']\n"
     ]
    }
   ],
   "source": [
    "print(courses)"
   ]
  },
  {
   "cell_type": "code",
   "execution_count": 255,
   "metadata": {},
   "outputs": [],
   "source": [
    "courses.insert(1,'Telugu')"
   ]
  },
  {
   "cell_type": "code",
   "execution_count": 256,
   "metadata": {},
   "outputs": [
    {
     "name": "stdout",
     "output_type": "stream",
     "text": [
      "['Math', 'Telugu', 'Science', 'Social', 'Chemistry', 'Physics', 'History']\n"
     ]
    }
   ],
   "source": [
    "print(courses)"
   ]
  },
  {
   "cell_type": "code",
   "execution_count": 257,
   "metadata": {},
   "outputs": [
    {
     "name": "stdout",
     "output_type": "stream",
     "text": [
      "[['Math', 'Telugu', 'Science', 'Social', 'Chemistry', 'Physics', 'History'], 'English', 'Hindi']\n"
     ]
    }
   ],
   "source": [
    "courses_2 = ['English','Hindi']\n",
    "courses_2.insert(0,courses)\n",
    "print(courses_2)"
   ]
  },
  {
   "cell_type": "code",
   "execution_count": 258,
   "metadata": {},
   "outputs": [
    {
     "name": "stdout",
     "output_type": "stream",
     "text": [
      "['Math', 'Telugu', 'Science', 'Social', 'Chemistry', 'Physics', 'History', 'English', 'Hindi']\n"
     ]
    }
   ],
   "source": [
    "courses_3 = ['English','Hindi']\n",
    "courses.extend(courses_3)\n",
    "print(courses)"
   ]
  },
  {
   "cell_type": "code",
   "execution_count": 259,
   "metadata": {},
   "outputs": [
    {
     "name": "stdout",
     "output_type": "stream",
     "text": [
      "['Chemistry', 'English', 'Hindi', 'History', 'Math', 'Physics', 'Science', 'Social', 'Telugu']\n"
     ]
    }
   ],
   "source": [
    "courses.sort()\n",
    "print(courses)"
   ]
  },
  {
   "cell_type": "code",
   "execution_count": 260,
   "metadata": {},
   "outputs": [
    {
     "name": "stdout",
     "output_type": "stream",
     "text": [
      "['Telugu', 'Social', 'Science', 'Physics', 'Math', 'History', 'Hindi', 'English', 'Chemistry']\n"
     ]
    }
   ],
   "source": [
    "courses.sort(reverse=True)\n",
    "print(courses)"
   ]
  },
  {
   "cell_type": "code",
   "execution_count": 261,
   "metadata": {},
   "outputs": [
    {
     "name": "stdout",
     "output_type": "stream",
     "text": [
      "[2, 3, 5, 7, 8]\n"
     ]
    }
   ],
   "source": [
    "nums = [3,7,2,8,5]\n",
    "nums.sort()\n",
    "print(nums)"
   ]
  },
  {
   "cell_type": "code",
   "execution_count": 262,
   "metadata": {
    "scrolled": true
   },
   "outputs": [
    {
     "name": "stdout",
     "output_type": "stream",
     "text": [
      "[8, 7, 5, 3, 2]\n"
     ]
    }
   ],
   "source": [
    "nums = [3,7,2,8,5]\n",
    "nums.sort(reverse=True)\n",
    "print(nums)"
   ]
  },
  {
   "cell_type": "code",
   "execution_count": 263,
   "metadata": {},
   "outputs": [
    {
     "name": "stdout",
     "output_type": "stream",
     "text": [
      "['Chemistry', 'English', 'Hindi', 'History', 'Math', 'Physics', 'Science', 'Social', 'Telugu']\n"
     ]
    }
   ],
   "source": [
    "sorted_courses = sorted(courses)\n",
    "print(sorted_courses)"
   ]
  },
  {
   "cell_type": "code",
   "execution_count": 264,
   "metadata": {},
   "outputs": [
    {
     "name": "stdout",
     "output_type": "stream",
     "text": [
      "2\n"
     ]
    }
   ],
   "source": [
    "print(min(nums))"
   ]
  },
  {
   "cell_type": "code",
   "execution_count": 265,
   "metadata": {},
   "outputs": [
    {
     "name": "stdout",
     "output_type": "stream",
     "text": [
      "8\n"
     ]
    }
   ],
   "source": [
    "print(max(nums))"
   ]
  },
  {
   "cell_type": "code",
   "execution_count": 266,
   "metadata": {},
   "outputs": [
    {
     "name": "stdout",
     "output_type": "stream",
     "text": [
      "Telugu\n",
      "Social\n",
      "Science\n",
      "Physics\n",
      "Math\n",
      "History\n",
      "Hindi\n",
      "English\n",
      "Chemistry\n"
     ]
    }
   ],
   "source": [
    "for item in courses:\n",
    "    print(item)"
   ]
  },
  {
   "cell_type": "code",
   "execution_count": 267,
   "metadata": {},
   "outputs": [
    {
     "name": "stdout",
     "output_type": "stream",
     "text": [
      "0 Telugu\n",
      "1 Social\n",
      "2 Science\n",
      "3 Physics\n",
      "4 Math\n",
      "5 History\n",
      "6 Hindi\n",
      "7 English\n",
      "8 Chemistry\n"
     ]
    }
   ],
   "source": [
    "for index, course in enumerate(courses):\n",
    "    print(index, course)"
   ]
  },
  {
   "cell_type": "code",
   "execution_count": 268,
   "metadata": {},
   "outputs": [
    {
     "name": "stdout",
     "output_type": "stream",
     "text": [
      "2 Telugu\n",
      "3 Social\n",
      "4 Science\n",
      "5 Physics\n",
      "6 Math\n",
      "7 History\n",
      "8 Hindi\n",
      "9 English\n",
      "10 Chemistry\n"
     ]
    }
   ],
   "source": [
    "for index, course in enumerate(courses, start=2):\n",
    "    print(index, course)"
   ]
  },
  {
   "cell_type": "code",
   "execution_count": 269,
   "metadata": {},
   "outputs": [
    {
     "name": "stdout",
     "output_type": "stream",
     "text": [
      "Telugu, Social, Science, Physics, Math, History, Hindi, English, Chemistry\n"
     ]
    }
   ],
   "source": [
    "courses_str = ', '.join(courses)\n",
    "print(courses_str)"
   ]
  },
  {
   "cell_type": "code",
   "execution_count": 270,
   "metadata": {},
   "outputs": [
    {
     "name": "stdout",
     "output_type": "stream",
     "text": [
      "Telugu - Social - Science - Physics - Math - History - Hindi - English - Chemistry\n",
      "['Telugu', 'Social', 'Science', 'Physics', 'Math', 'History', 'Hindi', 'English', 'Chemistry']\n"
     ]
    }
   ],
   "source": [
    "courses_str2 = ' - '.join(courses)\n",
    "print(courses_str2)\n",
    "new_list = courses_str2.split(' - ')\n",
    "print(new_list)"
   ]
  }
 ],
 "metadata": {
  "kernelspec": {
   "display_name": "Python 3",
   "language": "python",
   "name": "python3"
  },
  "language_info": {
   "codemirror_mode": {
    "name": "ipython",
    "version": 3
   },
   "file_extension": ".py",
   "mimetype": "text/x-python",
   "name": "python",
   "nbconvert_exporter": "python",
   "pygments_lexer": "ipython3",
   "version": "3.7.4"
  }
 },
 "nbformat": 4,
 "nbformat_minor": 2
}
